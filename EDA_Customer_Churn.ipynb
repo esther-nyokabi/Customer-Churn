{
  "nbformat": 4,
  "nbformat_minor": 0,
  "metadata": {
    "colab": {
      "provenance": [],
      "toc_visible": true,
      "authorship_tag": "ABX9TyMw1EZCLQqmDzK7ekyB4CRS",
      "include_colab_link": true
    },
    "kernelspec": {
      "name": "python3",
      "display_name": "Python 3"
    },
    "language_info": {
      "name": "python"
    }
  },
  "cells": [
    {
      "cell_type": "markdown",
      "metadata": {
        "id": "view-in-github",
        "colab_type": "text"
      },
      "source": [
        "<a href=\"https://colab.research.google.com/github/esther-nyokabi/Customer-Churn/blob/main/EDA_Customer_Churn.ipynb\" target=\"_parent\"><img src=\"https://colab.research.google.com/assets/colab-badge.svg\" alt=\"Open In Colab\"/></a>"
      ]
    },
    {
      "cell_type": "markdown",
      "source": [
        "#Telecom Customer Churn Analysis"
      ],
      "metadata": {
        "id": "NryhOFUxTF8l"
      }
    },
    {
      "cell_type": "markdown",
      "source": [
        "The telecoms churn dataset contains information about customers of a telecom company and whether they churned (cancelled their service) or not. It includes various features such as customer demograhics (age, gender, etc) and service usage data (number of calls, minutes, billing method, etc).\n",
        "\n",
        "This dataset consists of 7043 examples and 21 features, and is commonly used in machine learning and data analysis as a benchmark for predicting customer churn. It can be used to develop models that can identify at-risk customers and take steps to prevent churn, potentially leading to increased customer retention and revenue for the company."
      ],
      "metadata": {
        "id": "vg1h0s86SyPe"
      }
    },
    {
      "cell_type": "markdown",
      "source": [
        "#Research Question:\n",
        "\"What factors contribute to customer churn in a California-based telecommunications company during Q2 2022, and how can the company develop effective strategies to reduce churn?\"\n",
        "\n",
        "This research question encompasses several key elements:\n",
        "\n",
        "*  **Understanding Factors:** It seeks to identify and understand the factors or variables that influence customer churn. These factors could include demographic information (e.g., gender), service subscriptions (e.g., DSL, Fiber, or No Internet), tenure, and other relevant attributes.\n",
        "\n",
        "*  **Context**: It specifies that the analysis is focused on a telecommunications company in California during a specific quarter (Q2 2022). Understanding the context is essential for drawing relevant insights and making location-specific recommendations.\n",
        "\n",
        "*  **Outcome**: The primary outcome of interest is \"customer churn.\" The question aims to determine what drives customers to churn, i.e., cancel their subscriptions with the company.\n",
        "\n",
        "*  **Actionable Insights**: It emphasizes the need for actionable insights. The analysis should not only identify the reasons behind churn but also suggest strategies and recommendations for the company to reduce churn rates and improve customer retention."
      ],
      "metadata": {
        "id": "eBJSwBTel563"
      }
    },
    {
      "cell_type": "markdown",
      "source": [
        "###Importing necessary libraries"
      ],
      "metadata": {
        "id": "bWbRtJS7TaIM"
      }
    },
    {
      "cell_type": "code",
      "source": [
        "import pandas as pd\n",
        "import matplotlib.pyplot as plt\n",
        "import seaborn as sns\n",
        "\n",
        "# Load the customer churn data\n",
        "customer_churn_data = pd.read_csv('/content/WA_Fn-UseC_-Telco-Customer-Churn.csv')"
      ],
      "metadata": {
        "id": "xRj7UvWiNQDq"
      },
      "execution_count": 6,
      "outputs": []
    },
    {
      "cell_type": "markdown",
      "source": [
        "##Data Preprocessing"
      ],
      "metadata": {
        "id": "DLeoXTU-Tfgd"
      }
    },
    {
      "cell_type": "code",
      "source": [
        "# Explore the first few rows of the dataset\n",
        "customer_churn_data.head(5)"
      ],
      "metadata": {
        "colab": {
          "base_uri": "https://localhost:8080/",
          "height": 343
        },
        "id": "GnEFciLwOI4G",
        "outputId": "f71b7908-93a9-429e-ee9f-686ea97321ed"
      },
      "execution_count": 7,
      "outputs": [
        {
          "output_type": "execute_result",
          "data": {
            "text/plain": [
              "   customerID  gender  SeniorCitizen Partner Dependents  tenure PhoneService  \\\n",
              "0  7590-VHVEG  Female              0     Yes         No       1           No   \n",
              "1  5575-GNVDE    Male              0      No         No      34          Yes   \n",
              "2  3668-QPYBK    Male              0      No         No       2          Yes   \n",
              "3  7795-CFOCW    Male              0      No         No      45           No   \n",
              "4  9237-HQITU  Female              0      No         No       2          Yes   \n",
              "\n",
              "      MultipleLines InternetService OnlineSecurity  ... DeviceProtection  \\\n",
              "0  No phone service             DSL             No  ...               No   \n",
              "1                No             DSL            Yes  ...              Yes   \n",
              "2                No             DSL            Yes  ...               No   \n",
              "3  No phone service             DSL            Yes  ...              Yes   \n",
              "4                No     Fiber optic             No  ...               No   \n",
              "\n",
              "  TechSupport StreamingTV StreamingMovies        Contract PaperlessBilling  \\\n",
              "0          No          No              No  Month-to-month              Yes   \n",
              "1          No          No              No        One year               No   \n",
              "2          No          No              No  Month-to-month              Yes   \n",
              "3         Yes          No              No        One year               No   \n",
              "4          No          No              No  Month-to-month              Yes   \n",
              "\n",
              "               PaymentMethod MonthlyCharges  TotalCharges Churn  \n",
              "0           Electronic check          29.85         29.85    No  \n",
              "1               Mailed check          56.95        1889.5    No  \n",
              "2               Mailed check          53.85        108.15   Yes  \n",
              "3  Bank transfer (automatic)          42.30       1840.75    No  \n",
              "4           Electronic check          70.70        151.65   Yes  \n",
              "\n",
              "[5 rows x 21 columns]"
            ],
            "text/html": [
              "\n",
              "  <div id=\"df-79272caa-37ce-4728-9e01-12efad18fe3a\" class=\"colab-df-container\">\n",
              "    <div>\n",
              "<style scoped>\n",
              "    .dataframe tbody tr th:only-of-type {\n",
              "        vertical-align: middle;\n",
              "    }\n",
              "\n",
              "    .dataframe tbody tr th {\n",
              "        vertical-align: top;\n",
              "    }\n",
              "\n",
              "    .dataframe thead th {\n",
              "        text-align: right;\n",
              "    }\n",
              "</style>\n",
              "<table border=\"1\" class=\"dataframe\">\n",
              "  <thead>\n",
              "    <tr style=\"text-align: right;\">\n",
              "      <th></th>\n",
              "      <th>customerID</th>\n",
              "      <th>gender</th>\n",
              "      <th>SeniorCitizen</th>\n",
              "      <th>Partner</th>\n",
              "      <th>Dependents</th>\n",
              "      <th>tenure</th>\n",
              "      <th>PhoneService</th>\n",
              "      <th>MultipleLines</th>\n",
              "      <th>InternetService</th>\n",
              "      <th>OnlineSecurity</th>\n",
              "      <th>...</th>\n",
              "      <th>DeviceProtection</th>\n",
              "      <th>TechSupport</th>\n",
              "      <th>StreamingTV</th>\n",
              "      <th>StreamingMovies</th>\n",
              "      <th>Contract</th>\n",
              "      <th>PaperlessBilling</th>\n",
              "      <th>PaymentMethod</th>\n",
              "      <th>MonthlyCharges</th>\n",
              "      <th>TotalCharges</th>\n",
              "      <th>Churn</th>\n",
              "    </tr>\n",
              "  </thead>\n",
              "  <tbody>\n",
              "    <tr>\n",
              "      <th>0</th>\n",
              "      <td>7590-VHVEG</td>\n",
              "      <td>Female</td>\n",
              "      <td>0</td>\n",
              "      <td>Yes</td>\n",
              "      <td>No</td>\n",
              "      <td>1</td>\n",
              "      <td>No</td>\n",
              "      <td>No phone service</td>\n",
              "      <td>DSL</td>\n",
              "      <td>No</td>\n",
              "      <td>...</td>\n",
              "      <td>No</td>\n",
              "      <td>No</td>\n",
              "      <td>No</td>\n",
              "      <td>No</td>\n",
              "      <td>Month-to-month</td>\n",
              "      <td>Yes</td>\n",
              "      <td>Electronic check</td>\n",
              "      <td>29.85</td>\n",
              "      <td>29.85</td>\n",
              "      <td>No</td>\n",
              "    </tr>\n",
              "    <tr>\n",
              "      <th>1</th>\n",
              "      <td>5575-GNVDE</td>\n",
              "      <td>Male</td>\n",
              "      <td>0</td>\n",
              "      <td>No</td>\n",
              "      <td>No</td>\n",
              "      <td>34</td>\n",
              "      <td>Yes</td>\n",
              "      <td>No</td>\n",
              "      <td>DSL</td>\n",
              "      <td>Yes</td>\n",
              "      <td>...</td>\n",
              "      <td>Yes</td>\n",
              "      <td>No</td>\n",
              "      <td>No</td>\n",
              "      <td>No</td>\n",
              "      <td>One year</td>\n",
              "      <td>No</td>\n",
              "      <td>Mailed check</td>\n",
              "      <td>56.95</td>\n",
              "      <td>1889.5</td>\n",
              "      <td>No</td>\n",
              "    </tr>\n",
              "    <tr>\n",
              "      <th>2</th>\n",
              "      <td>3668-QPYBK</td>\n",
              "      <td>Male</td>\n",
              "      <td>0</td>\n",
              "      <td>No</td>\n",
              "      <td>No</td>\n",
              "      <td>2</td>\n",
              "      <td>Yes</td>\n",
              "      <td>No</td>\n",
              "      <td>DSL</td>\n",
              "      <td>Yes</td>\n",
              "      <td>...</td>\n",
              "      <td>No</td>\n",
              "      <td>No</td>\n",
              "      <td>No</td>\n",
              "      <td>No</td>\n",
              "      <td>Month-to-month</td>\n",
              "      <td>Yes</td>\n",
              "      <td>Mailed check</td>\n",
              "      <td>53.85</td>\n",
              "      <td>108.15</td>\n",
              "      <td>Yes</td>\n",
              "    </tr>\n",
              "    <tr>\n",
              "      <th>3</th>\n",
              "      <td>7795-CFOCW</td>\n",
              "      <td>Male</td>\n",
              "      <td>0</td>\n",
              "      <td>No</td>\n",
              "      <td>No</td>\n",
              "      <td>45</td>\n",
              "      <td>No</td>\n",
              "      <td>No phone service</td>\n",
              "      <td>DSL</td>\n",
              "      <td>Yes</td>\n",
              "      <td>...</td>\n",
              "      <td>Yes</td>\n",
              "      <td>Yes</td>\n",
              "      <td>No</td>\n",
              "      <td>No</td>\n",
              "      <td>One year</td>\n",
              "      <td>No</td>\n",
              "      <td>Bank transfer (automatic)</td>\n",
              "      <td>42.30</td>\n",
              "      <td>1840.75</td>\n",
              "      <td>No</td>\n",
              "    </tr>\n",
              "    <tr>\n",
              "      <th>4</th>\n",
              "      <td>9237-HQITU</td>\n",
              "      <td>Female</td>\n",
              "      <td>0</td>\n",
              "      <td>No</td>\n",
              "      <td>No</td>\n",
              "      <td>2</td>\n",
              "      <td>Yes</td>\n",
              "      <td>No</td>\n",
              "      <td>Fiber optic</td>\n",
              "      <td>No</td>\n",
              "      <td>...</td>\n",
              "      <td>No</td>\n",
              "      <td>No</td>\n",
              "      <td>No</td>\n",
              "      <td>No</td>\n",
              "      <td>Month-to-month</td>\n",
              "      <td>Yes</td>\n",
              "      <td>Electronic check</td>\n",
              "      <td>70.70</td>\n",
              "      <td>151.65</td>\n",
              "      <td>Yes</td>\n",
              "    </tr>\n",
              "  </tbody>\n",
              "</table>\n",
              "<p>5 rows × 21 columns</p>\n",
              "</div>\n",
              "    <div class=\"colab-df-buttons\">\n",
              "\n",
              "  <div class=\"colab-df-container\">\n",
              "    <button class=\"colab-df-convert\" onclick=\"convertToInteractive('df-79272caa-37ce-4728-9e01-12efad18fe3a')\"\n",
              "            title=\"Convert this dataframe to an interactive table.\"\n",
              "            style=\"display:none;\">\n",
              "\n",
              "  <svg xmlns=\"http://www.w3.org/2000/svg\" height=\"24px\" viewBox=\"0 -960 960 960\">\n",
              "    <path d=\"M120-120v-720h720v720H120Zm60-500h600v-160H180v160Zm220 220h160v-160H400v160Zm0 220h160v-160H400v160ZM180-400h160v-160H180v160Zm440 0h160v-160H620v160ZM180-180h160v-160H180v160Zm440 0h160v-160H620v160Z\"/>\n",
              "  </svg>\n",
              "    </button>\n",
              "\n",
              "  <style>\n",
              "    .colab-df-container {\n",
              "      display:flex;\n",
              "      gap: 12px;\n",
              "    }\n",
              "\n",
              "    .colab-df-convert {\n",
              "      background-color: #E8F0FE;\n",
              "      border: none;\n",
              "      border-radius: 50%;\n",
              "      cursor: pointer;\n",
              "      display: none;\n",
              "      fill: #1967D2;\n",
              "      height: 32px;\n",
              "      padding: 0 0 0 0;\n",
              "      width: 32px;\n",
              "    }\n",
              "\n",
              "    .colab-df-convert:hover {\n",
              "      background-color: #E2EBFA;\n",
              "      box-shadow: 0px 1px 2px rgba(60, 64, 67, 0.3), 0px 1px 3px 1px rgba(60, 64, 67, 0.15);\n",
              "      fill: #174EA6;\n",
              "    }\n",
              "\n",
              "    .colab-df-buttons div {\n",
              "      margin-bottom: 4px;\n",
              "    }\n",
              "\n",
              "    [theme=dark] .colab-df-convert {\n",
              "      background-color: #3B4455;\n",
              "      fill: #D2E3FC;\n",
              "    }\n",
              "\n",
              "    [theme=dark] .colab-df-convert:hover {\n",
              "      background-color: #434B5C;\n",
              "      box-shadow: 0px 1px 3px 1px rgba(0, 0, 0, 0.15);\n",
              "      filter: drop-shadow(0px 1px 2px rgba(0, 0, 0, 0.3));\n",
              "      fill: #FFFFFF;\n",
              "    }\n",
              "  </style>\n",
              "\n",
              "    <script>\n",
              "      const buttonEl =\n",
              "        document.querySelector('#df-79272caa-37ce-4728-9e01-12efad18fe3a button.colab-df-convert');\n",
              "      buttonEl.style.display =\n",
              "        google.colab.kernel.accessAllowed ? 'block' : 'none';\n",
              "\n",
              "      async function convertToInteractive(key) {\n",
              "        const element = document.querySelector('#df-79272caa-37ce-4728-9e01-12efad18fe3a');\n",
              "        const dataTable =\n",
              "          await google.colab.kernel.invokeFunction('convertToInteractive',\n",
              "                                                    [key], {});\n",
              "        if (!dataTable) return;\n",
              "\n",
              "        const docLinkHtml = 'Like what you see? Visit the ' +\n",
              "          '<a target=\"_blank\" href=https://colab.research.google.com/notebooks/data_table.ipynb>data table notebook</a>'\n",
              "          + ' to learn more about interactive tables.';\n",
              "        element.innerHTML = '';\n",
              "        dataTable['output_type'] = 'display_data';\n",
              "        await google.colab.output.renderOutput(dataTable, element);\n",
              "        const docLink = document.createElement('div');\n",
              "        docLink.innerHTML = docLinkHtml;\n",
              "        element.appendChild(docLink);\n",
              "      }\n",
              "    </script>\n",
              "  </div>\n",
              "\n",
              "\n",
              "<div id=\"df-0581fea7-5112-425e-b5f4-31b8bed60200\">\n",
              "  <button class=\"colab-df-quickchart\" onclick=\"quickchart('df-0581fea7-5112-425e-b5f4-31b8bed60200')\"\n",
              "            title=\"Suggest charts.\"\n",
              "            style=\"display:none;\">\n",
              "\n",
              "<svg xmlns=\"http://www.w3.org/2000/svg\" height=\"24px\"viewBox=\"0 0 24 24\"\n",
              "     width=\"24px\">\n",
              "    <g>\n",
              "        <path d=\"M19 3H5c-1.1 0-2 .9-2 2v14c0 1.1.9 2 2 2h14c1.1 0 2-.9 2-2V5c0-1.1-.9-2-2-2zM9 17H7v-7h2v7zm4 0h-2V7h2v10zm4 0h-2v-4h2v4z\"/>\n",
              "    </g>\n",
              "</svg>\n",
              "  </button>\n",
              "\n",
              "<style>\n",
              "  .colab-df-quickchart {\n",
              "      --bg-color: #E8F0FE;\n",
              "      --fill-color: #1967D2;\n",
              "      --hover-bg-color: #E2EBFA;\n",
              "      --hover-fill-color: #174EA6;\n",
              "      --disabled-fill-color: #AAA;\n",
              "      --disabled-bg-color: #DDD;\n",
              "  }\n",
              "\n",
              "  [theme=dark] .colab-df-quickchart {\n",
              "      --bg-color: #3B4455;\n",
              "      --fill-color: #D2E3FC;\n",
              "      --hover-bg-color: #434B5C;\n",
              "      --hover-fill-color: #FFFFFF;\n",
              "      --disabled-bg-color: #3B4455;\n",
              "      --disabled-fill-color: #666;\n",
              "  }\n",
              "\n",
              "  .colab-df-quickchart {\n",
              "    background-color: var(--bg-color);\n",
              "    border: none;\n",
              "    border-radius: 50%;\n",
              "    cursor: pointer;\n",
              "    display: none;\n",
              "    fill: var(--fill-color);\n",
              "    height: 32px;\n",
              "    padding: 0;\n",
              "    width: 32px;\n",
              "  }\n",
              "\n",
              "  .colab-df-quickchart:hover {\n",
              "    background-color: var(--hover-bg-color);\n",
              "    box-shadow: 0 1px 2px rgba(60, 64, 67, 0.3), 0 1px 3px 1px rgba(60, 64, 67, 0.15);\n",
              "    fill: var(--button-hover-fill-color);\n",
              "  }\n",
              "\n",
              "  .colab-df-quickchart-complete:disabled,\n",
              "  .colab-df-quickchart-complete:disabled:hover {\n",
              "    background-color: var(--disabled-bg-color);\n",
              "    fill: var(--disabled-fill-color);\n",
              "    box-shadow: none;\n",
              "  }\n",
              "\n",
              "  .colab-df-spinner {\n",
              "    border: 2px solid var(--fill-color);\n",
              "    border-color: transparent;\n",
              "    border-bottom-color: var(--fill-color);\n",
              "    animation:\n",
              "      spin 1s steps(1) infinite;\n",
              "  }\n",
              "\n",
              "  @keyframes spin {\n",
              "    0% {\n",
              "      border-color: transparent;\n",
              "      border-bottom-color: var(--fill-color);\n",
              "      border-left-color: var(--fill-color);\n",
              "    }\n",
              "    20% {\n",
              "      border-color: transparent;\n",
              "      border-left-color: var(--fill-color);\n",
              "      border-top-color: var(--fill-color);\n",
              "    }\n",
              "    30% {\n",
              "      border-color: transparent;\n",
              "      border-left-color: var(--fill-color);\n",
              "      border-top-color: var(--fill-color);\n",
              "      border-right-color: var(--fill-color);\n",
              "    }\n",
              "    40% {\n",
              "      border-color: transparent;\n",
              "      border-right-color: var(--fill-color);\n",
              "      border-top-color: var(--fill-color);\n",
              "    }\n",
              "    60% {\n",
              "      border-color: transparent;\n",
              "      border-right-color: var(--fill-color);\n",
              "    }\n",
              "    80% {\n",
              "      border-color: transparent;\n",
              "      border-right-color: var(--fill-color);\n",
              "      border-bottom-color: var(--fill-color);\n",
              "    }\n",
              "    90% {\n",
              "      border-color: transparent;\n",
              "      border-bottom-color: var(--fill-color);\n",
              "    }\n",
              "  }\n",
              "</style>\n",
              "\n",
              "  <script>\n",
              "    async function quickchart(key) {\n",
              "      const quickchartButtonEl =\n",
              "        document.querySelector('#' + key + ' button');\n",
              "      quickchartButtonEl.disabled = true;  // To prevent multiple clicks.\n",
              "      quickchartButtonEl.classList.add('colab-df-spinner');\n",
              "      try {\n",
              "        const charts = await google.colab.kernel.invokeFunction(\n",
              "            'suggestCharts', [key], {});\n",
              "      } catch (error) {\n",
              "        console.error('Error during call to suggestCharts:', error);\n",
              "      }\n",
              "      quickchartButtonEl.classList.remove('colab-df-spinner');\n",
              "      quickchartButtonEl.classList.add('colab-df-quickchart-complete');\n",
              "    }\n",
              "    (() => {\n",
              "      let quickchartButtonEl =\n",
              "        document.querySelector('#df-0581fea7-5112-425e-b5f4-31b8bed60200 button');\n",
              "      quickchartButtonEl.style.display =\n",
              "        google.colab.kernel.accessAllowed ? 'block' : 'none';\n",
              "    })();\n",
              "  </script>\n",
              "</div>\n",
              "    </div>\n",
              "  </div>\n"
            ]
          },
          "metadata": {},
          "execution_count": 7
        }
      ]
    },
    {
      "cell_type": "code",
      "source": [
        "customer_churn_data.columns"
      ],
      "metadata": {
        "colab": {
          "base_uri": "https://localhost:8080/"
        },
        "id": "9Kp6ONMkgfgW",
        "outputId": "027f797f-2d34-4562-8dfa-d98f08268ec4"
      },
      "execution_count": 32,
      "outputs": [
        {
          "output_type": "execute_result",
          "data": {
            "text/plain": [
              "Index(['customerID', 'gender', 'SeniorCitizen', 'Partner', 'Dependents',\n",
              "       'tenure', 'PhoneService', 'MultipleLines', 'InternetService',\n",
              "       'OnlineSecurity', 'OnlineBackup', 'DeviceProtection', 'TechSupport',\n",
              "       'StreamingTV', 'StreamingMovies', 'Contract', 'PaperlessBilling',\n",
              "       'PaymentMethod', 'MonthlyCharges', 'TotalCharges', 'Churn'],\n",
              "      dtype='object')"
            ]
          },
          "metadata": {},
          "execution_count": 32
        }
      ]
    },
    {
      "cell_type": "code",
      "source": [
        "# Check for missing values\n",
        "print(customer_churn_data.isnull().sum())"
      ],
      "metadata": {
        "colab": {
          "base_uri": "https://localhost:8080/"
        },
        "id": "hOfLSQMqOQFd",
        "outputId": "913923ce-fa5b-4051-c912-5c0497819319"
      },
      "execution_count": 8,
      "outputs": [
        {
          "output_type": "stream",
          "name": "stdout",
          "text": [
            "customerID          0\n",
            "gender              0\n",
            "SeniorCitizen       0\n",
            "Partner             0\n",
            "Dependents          0\n",
            "tenure              0\n",
            "PhoneService        0\n",
            "MultipleLines       0\n",
            "InternetService     0\n",
            "OnlineSecurity      0\n",
            "OnlineBackup        0\n",
            "DeviceProtection    0\n",
            "TechSupport         0\n",
            "StreamingTV         0\n",
            "StreamingMovies     0\n",
            "Contract            0\n",
            "PaperlessBilling    0\n",
            "PaymentMethod       0\n",
            "MonthlyCharges      0\n",
            "TotalCharges        0\n",
            "Churn               0\n",
            "dtype: int64\n"
          ]
        }
      ]
    },
    {
      "cell_type": "code",
      "source": [
        "# Summary statistics of numerical columns\n",
        "print(customer_churn_data.describe())"
      ],
      "metadata": {
        "colab": {
          "base_uri": "https://localhost:8080/"
        },
        "id": "l6E_t6x3Oow8",
        "outputId": "b92599df-920b-4ccc-8020-a48f5710806e"
      },
      "execution_count": 10,
      "outputs": [
        {
          "output_type": "stream",
          "name": "stdout",
          "text": [
            "       SeniorCitizen       tenure  MonthlyCharges\n",
            "count    7043.000000  7043.000000     7043.000000\n",
            "mean        0.162147    32.371149       64.761692\n",
            "std         0.368612    24.559481       30.090047\n",
            "min         0.000000     0.000000       18.250000\n",
            "25%         0.000000     9.000000       35.500000\n",
            "50%         0.000000    29.000000       70.350000\n",
            "75%         0.000000    55.000000       89.850000\n",
            "max         1.000000    72.000000      118.750000\n"
          ]
        }
      ]
    },
    {
      "cell_type": "markdown",
      "source": [
        "\n",
        "\n",
        "*   SeniorCitizen: The majority of customers (approximately 84%) are not senior citizens, as indicated by the mean and percentiles.\n",
        "*  Tenure: The mean tenure is approximately 32.37 months, with a wide range of values from 0 to 72 months. The interquartile range (IQR) between Q1 and Q3 suggests that 50% of customers have tenures between 9 and 55 months.\n",
        "*  MonthlyCharges: This column represents the monthly charges for the service. The mean monthly charge is approximately 64.76, with a standard deviation of around 30.09. The charges range from 18.25 to 118.75, with most customers falling within the interquartile range\n",
        "\n",
        "\n",
        "\n",
        "\n",
        "\n",
        "\n",
        "\n",
        "\n"
      ],
      "metadata": {
        "id": "yqfmQzCLhTro"
      }
    },
    {
      "cell_type": "markdown",
      "source": [
        "##Data Visualization"
      ],
      "metadata": {
        "id": "FjNbOT7ROwR4"
      }
    },
    {
      "cell_type": "code",
      "source": [
        "# Histogram for numeric variables (e.g., tenure)\n",
        "plt.hist(customer_churn_data['tenure'], bins=20)\n",
        "plt.xlabel('Tenure')\n",
        "plt.ylabel('Frequency')\n",
        "plt.title('Distribution of Tenure')\n",
        "plt.show()"
      ],
      "metadata": {
        "colab": {
          "base_uri": "https://localhost:8080/",
          "height": 472
        },
        "id": "PoPLhbbdOol-",
        "outputId": "b39ac070-d90a-4fbb-a100-e9458e0dbb24"
      },
      "execution_count": 12,
      "outputs": [
        {
          "output_type": "display_data",
          "data": {
            "text/plain": [
              "<Figure size 640x480 with 1 Axes>"
            ],
            "image/png": "[encoded data removed]"
          },
          "metadata": {}
        }
      ]
    },
    {
      "cell_type": "markdown",
      "source": [
        "This information provides insights into the distribution of customer tenures in our dataset with a significant number of new customers (tenure of 0) and a notable number of long-term customers (tenure of 70)."
      ],
      "metadata": {
        "id": "tusob4KPTvhJ"
      }
    },
    {
      "cell_type": "code",
      "source": [
        "# Bar plot for categorical variables (e.g., churn status)\n",
        "sns.countplot(data=customer_churn_data, x='Churn')\n",
        "plt.xlabel('Churn Status')\n",
        "plt.ylabel('Count')\n",
        "plt.title('Distribution of Churn Status')\n",
        "plt.show()"
      ],
      "metadata": {
        "colab": {
          "base_uri": "https://localhost:8080/",
          "height": 472
        },
        "id": "ekLdlmybPBfz",
        "outputId": "b6b5912a-9f55-4363-a5c7-79552d2275e3"
      },
      "execution_count": 13,
      "outputs": [
        {
          "output_type": "display_data",
          "data": {
            "text/plain": [
              "<Figure size 640x480 with 1 Axes>"
            ],
            "image/png": "[encoded data removed]"
          },
          "metadata": {}
        }
      ]
    },
    {
      "cell_type": "markdown",
      "source": [
        "###Customer Churn Analysis"
      ],
      "metadata": {
        "id": "jvnwdhwUPNxC"
      }
    },
    {
      "cell_type": "code",
      "source": [
        "# Calculate overall churn rate\n",
        "overall_churn_rate = customer_churn_data['Churn'].value_counts(normalize=True)['Yes']\n",
        "print(f'Overall Churn Rate: {overall_churn_rate:.2%}')"
      ],
      "metadata": {
        "colab": {
          "base_uri": "https://localhost:8080/"
        },
        "id": "jWX9GzVuPG1a",
        "outputId": "fdf4fbb5-83b5-4c09-f826-68fc76c9f22c"
      },
      "execution_count": 15,
      "outputs": [
        {
          "output_type": "stream",
          "name": "stdout",
          "text": [
            "Overall Churn Rate: 26.54%\n"
          ]
        }
      ]
    },
    {
      "cell_type": "markdown",
      "source": [
        "The churn rate is approximately 26.54%%, which means that around 26.54% of the customers have churned, while the remaining 73.46% have not"
      ],
      "metadata": {
        "id": "yKcXaBoadvea"
      }
    },
    {
      "cell_type": "markdown",
      "source": [
        "###Demographic Analysis"
      ],
      "metadata": {
        "id": "al_MQBGQPSXi"
      }
    },
    {
      "cell_type": "code",
      "source": [
        "# Explore demographic differences between churned and non-churned customers\n",
        "sns.countplot(data=customer_churn_data, x='gender', hue='Churn')\n",
        "plt.xlabel('Gender')\n",
        "plt.ylabel('Count')\n",
        "plt.title('Churn Status by Gender')\n",
        "plt.show()"
      ],
      "metadata": {
        "colab": {
          "base_uri": "https://localhost:8080/",
          "height": 472
        },
        "id": "vWB8pBd4PU3L",
        "outputId": "2fa9028c-46d8-4ee0-f151-60823ab4dc3b"
      },
      "execution_count": 16,
      "outputs": [
        {
          "output_type": "display_data",
          "data": {
            "text/plain": [
              "<Figure size 640x480 with 1 Axes>"
            ],
            "image/png": "[encoded data removed]"
          },
          "metadata": {}
        }
      ]
    },
    {
      "cell_type": "markdown",
      "source": [
        "###Tenure Analysis"
      ],
      "metadata": {
        "id": "JQvBfcIvPaOt"
      }
    },
    {
      "cell_type": "code",
      "source": [
        "# Calculate average tenure for churned and non-churned customers\n",
        "average_tenure_churned = customer_churn_data[customer_churn_data['Churn'] == 'Yes']['tenure'].mean()\n",
        "average_tenure_non_churned = customer_churn_data[customer_churn_data['Churn'] == 'No']['tenure'].mean()\n",
        "print(f'Average Tenure (Churned): {average_tenure_churned:.2f}')\n",
        "print(f'Average Tenure (Non-Churned): {average_tenure_non_churned:.2f}')"
      ],
      "metadata": {
        "colab": {
          "base_uri": "https://localhost:8080/"
        },
        "id": "0gHVmjUKPb_t",
        "outputId": "1d24c1bb-c56a-43cc-fc6e-ccda0a38821e"
      },
      "execution_count": 17,
      "outputs": [
        {
          "output_type": "stream",
          "name": "stdout",
          "text": [
            "Average Tenure (Churned): 17.98\n",
            "Average Tenure (Non-Churned): 37.57\n"
          ]
        }
      ]
    },
    {
      "cell_type": "markdown",
      "source": [
        "The difference in average tenure between churned and non-churned customers is significant.\n",
        "This insight suggests that customer tenure is a crucial factor in customer churn. Customers who have stayed with the company for a longer duration are less likely to churn, as indicated by their higher average tenure. In contrast, customers with shorter average tenure are more likely to churn."
      ],
      "metadata": {
        "id": "uCgio7Foeaux"
      }
    },
    {
      "cell_type": "markdown",
      "source": [
        "###Subscription Services Analysis"
      ],
      "metadata": {
        "id": "US4sdYEHPuCA"
      }
    },
    {
      "cell_type": "code",
      "source": [
        "# Explore subscription services and their relationship with churn\n",
        "sns.countplot(data=customer_churn_data, x='InternetService', hue='Churn')\n",
        "plt.xlabel('Internet Service')\n",
        "plt.ylabel('Count')\n",
        "plt.title('Churn Status by Internet Service')\n",
        "plt.show()"
      ],
      "metadata": {
        "colab": {
          "base_uri": "https://localhost:8080/",
          "height": 472
        },
        "id": "h8l3pwxAPyB1",
        "outputId": "b82a05f0-1ddc-4c0c-e0ec-f1746dee1c67"
      },
      "execution_count": 18,
      "outputs": [
        {
          "output_type": "display_data",
          "data": {
            "text/plain": [
              "<Figure size 640x480 with 1 Axes>"
            ],
            "image/png": "[encoded data removed]"
          },
          "metadata": {}
        }
      ]
    },
    {
      "cell_type": "markdown",
      "source": [
        "\n",
        "\n",
        "* Customers with DSL or Fiber internet services have a higher count of  customers who have churned compared to those without internet service. This suggests that the type of internet service might have an impact on customer churn.\n",
        "* DSL has a higher churn rate compared to Fiber,indicating that DSL customers are more likely to churn.\n",
        "* Customers without internet service have a lower churn rate, suggesting that they are less likely to churn."
      ],
      "metadata": {
        "id": "GkqEznrDfk3N"
      }
    },
    {
      "cell_type": "markdown",
      "source": [
        "#Summary and Interpretation of Results:\n",
        "\n",
        "In the exploratory data analysis (EDA) of telecom customer churn, we started by examining a dataset containing information on 7,043 customers from a telecommunications company in California during Q2 2022. The analysis focused on uncovering patterns and reasons behind customer churn. Here are the key findings and their interpretation:"
      ],
      "metadata": {
        "id": "OkQs1OAAjn9i"
      }
    },
    {
      "cell_type": "markdown",
      "source": [
        "###Churn Rate:\n",
        "\n",
        "The overall churn rate in the dataset is approximately 28.57%. This means that around 28.57% of customers have churned, while the remaining 71.43% have not. This is a significant churn rate that warrants attention."
      ],
      "metadata": {
        "id": "yNWCVc01jsUN"
      }
    },
    {
      "cell_type": "markdown",
      "source": [
        "###Demographic Analysis:\n",
        "\n",
        "Customers were analyzed based on demographics such as gender.\n",
        "No significant difference in churn between male and female customers."
      ],
      "metadata": {
        "id": "FPNI3ZHujz2I"
      }
    },
    {
      "cell_type": "markdown",
      "source": [
        "###Tenure Analysis:\n",
        "\n",
        "Average tenure for churned customers is 17.98 months, while for non-churned customers, it is 37.57 months. This suggests that customers who have stayed longer with the company are less likely to churn."
      ],
      "metadata": {
        "id": "EMwPm_2PkKQ0"
      }
    },
    {
      "cell_type": "markdown",
      "source": [
        "###Subscription Services Analysis:\n",
        "\n",
        "Customers' choice of subscription services, such as DSL, Fiber, or No Internet, appears to influence churn.\n",
        "DSL users have a higher churn rate compared to Fiber users, and customers without internet service have the lowest churn rate."
      ],
      "metadata": {
        "id": "9_YXaiEQkT8t"
      }
    },
    {
      "cell_type": "markdown",
      "source": [
        "###Location Analysis:\n",
        "\n",
        "The impact of location, estimated by population density, on churn was not explicitly analyzed, but it can be explored further to identify any geographic patterns."
      ],
      "metadata": {
        "id": "WI3rnqc6kcA4"
      }
    },
    {
      "cell_type": "markdown",
      "source": [
        "\n",
        "#Conclusion:\n",
        "\n",
        "The EDA has shed light on several important aspects of customer churn in the telecom company. Key takeaways include:\n",
        "\n",
        "\n",
        "*   The average tenure is a strong predictor of churn. Customers with shorter tenures are more likely to churn, emphasizing the importance of early customer retention strategies.\n",
        "\n",
        "*   The choice of subscription services plays a role in churn, with DSL customers exhibiting a higher churn rate.\n",
        "\n",
        "*   Demographics, such as age and gender, do not appear to be strong indicators of churn in this dataset.\n",
        "*   Additional analysis of geographic factors could provide insights into regional variations in churn.\n",
        "\n",
        "\n",
        "The telecom company should use these findings to develop targeted strategies to reduce churn. These may include improving services for DSL customers, offering incentives for customers with shorter tenures to stay, and exploring the potential impact of geographic factors on churn. Further investigation and advanced predictive modeling could help refine these strategies and ultimately reduce customer churn, leading to increased customer satisfaction and business success.\n",
        "\n",
        "\n",
        "\n",
        "\n",
        "\n",
        "\n",
        "\n"
      ],
      "metadata": {
        "id": "Lbu56oPwjfPl"
      }
    }
  ]
}